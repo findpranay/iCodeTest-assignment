{
 "cells": [
  {
   "cell_type": "code",
   "execution_count": 4,
   "id": "039989b6",
   "metadata": {},
   "outputs": [],
   "source": [
    "import pandas as pb\n",
    "import cv2\n",
    "from bs4 import BeautifulSoup\n"
   ]
  },
  {
   "cell_type": "code",
   "execution_count": 5,
   "id": "308f039b",
   "metadata": {},
   "outputs": [],
   "source": [
    "import numpy as np\n",
    "from selenium import webdriver\n",
    "from selenium.webdriver.common.by import By\n",
    "from selenium.webdriver.support.ui import WebDriverWait\n",
    "from selenium.webdriver.support import expected_conditions as EC\n"
   ]
  },
  {
   "cell_type": "code",
   "execution_count": 47,
   "id": "5ce93008",
   "metadata": {},
   "outputs": [],
   "source": [
    "website_url=\"https://www.makemytrip.com/flights/airlines.html\"\n"
   ]
  },
  {
   "cell_type": "code",
   "execution_count": 53,
   "id": "0555cd82",
   "metadata": {},
   "outputs": [
    {
     "name": "stdout",
     "output_type": "stream",
     "text": [
      "Title: Airline Tickets, Domestic Airlines in India | MakeMyTrip India\n",
      "Meta Description: Airlines - Book Domestic & International Airline Tickets in India at Lowest airfares at MakeMyTrip.com. Best deals on Low cost airline tickets booking reservation, Airlines operating in India. Get cheap fares Airline Tickets deals online at Make My Trip India.\n"
     ]
    }
   ],
   "source": [
    "driver = webdriver.Chrome()\n",
    "driver.get(website_url)\n",
    "\n",
    "driver.maximize_window()\n",
    "\n",
    "wait = WebDriverWait(driver, 10)\n",
    "wait.until(EC.presence_of_element_located((By.TAG_NAME, 'body')))\n",
    "\n",
    "resolution = [1920, 870]\n",
    "script = f\"return [window.screen.width = {resolution[0]}, window.screen.height = {resolution[1]}];\"\n",
    "original_screen_resolution = driver.execute_script(script)\n",
    "\n",
    "\n",
    "photo = driver.get_screenshot_as_png()\n",
    "\n",
    "photo_np = cv2.imdecode(np.frombuffer(photo, np.uint8), 1)\n",
    "\n",
    "page = cv2.cvtColor(photo_np, cv2.COLOR_BGR2RGB)\n",
    "\n",
    "\n",
    "for tag in driver.find_elements(By.CSS_SELECTOR, 'div:not(:empty):not(:has(*)),img,li,label,a,button,h1,h2,h3,input,span:not(:empty):not(:has(*))'):\n",
    "    try:\n",
    "        location = tag.location\n",
    "        size = tag.size\n",
    "        x, y = location['x'], location['y']\n",
    "        x_max, y_max = x + size['width'], y + size['height']\n",
    "        margin_x = int(size['width'] * 0.1) \n",
    "        margin_y = int(size['height'] * 0.1) \n",
    "\n",
    "        x -= margin_x\n",
    "        y -= margin_y\n",
    "        x_max += margin_x\n",
    "        y_max += margin_y\n",
    "\n",
    "        x = int(x * original_screen_resolution[0] / driver.execute_script(\"return window.innerWidth;\"))\n",
    "        y = int(y * original_screen_resolution[1] / driver.execute_script(\"return window.innerHeight;\"))\n",
    "        x_max = int(x_max * original_screen_resolution[0] / driver.execute_script(\"return window.innerWidth;\"))\n",
    "        y_max = int(y_max * original_screen_resolution[1] / driver.execute_script(\"return window.innerHeight;\"))\n",
    "\n",
    "      \n",
    "\n",
    "\n",
    "        cv2.rectangle(webpage_rgb, (x, y), (x_max, y_max), (0, 185, 255), 2)\n",
    "    except AttributeError:\n",
    "        pass  \n",
    "def get_website_details(links):\n",
    "    \n",
    "    try:\n",
    "        driver.get(links)\n",
    "\n",
    "        driver.implicitly_wait(5)\n",
    "\n",
    "        html = driver.page_source\n",
    "\n",
    "        soup = BeautifulSoup(html, 'html.parser')\n",
    "\n",
    "        title = soup.title.text\n",
    "        meta_description = soup.find('meta', {'name': 'description'})['content'] if soup.find('meta', {'name': 'description'}) else None\n",
    "        print(f\"Title: {title}\")\n",
    "        print(f\"Meta Description: {meta_description}\")\n",
    "\n",
    "    except Exception as e:\n",
    "        print(f\"An error occurred: {e}\")\n",
    "\n",
    "    finally:\n",
    "        driver.quit()\n",
    "\n",
    "get_website_details(website_url)\n",
    "\n",
    "    \n",
    "    \n",
    "cv2.namedWindow('Webpage with Boundaries', cv2.WINDOW_NORMAL)\n",
    "cv2.setWindowProperty('Webpage with Boundaries', cv2.WND_PROP_FULLSCREEN, cv2.WINDOW_NORMAL)\n",
    "cv2.imshow('Webpage with Boundaries', webpage_rgb)\n",
    "cv2.waitKey(0)\n",
    "cv2.destroyAllWindows()\n",
    "\n",
    "driver.quit() \n"
   ]
  },
  {
   "cell_type": "code",
   "execution_count": null,
   "id": "ea456b04",
   "metadata": {},
   "outputs": [],
   "source": []
  },
  {
   "cell_type": "code",
   "execution_count": null,
   "id": "bee182de",
   "metadata": {},
   "outputs": [],
   "source": []
  }
 ],
 "metadata": {
  "kernelspec": {
   "display_name": "Python 3 (ipykernel)",
   "language": "python",
   "name": "python3"
  },
  "language_info": {
   "codemirror_mode": {
    "name": "ipython",
    "version": 3
   },
   "file_extension": ".py",
   "mimetype": "text/x-python",
   "name": "python",
   "nbconvert_exporter": "python",
   "pygments_lexer": "ipython3",
   "version": "3.11.5"
  }
 },
 "nbformat": 4,
 "nbformat_minor": 5
}
